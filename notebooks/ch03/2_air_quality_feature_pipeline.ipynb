{
 "cells": [
  {
   "cell_type": "markdown",
   "id": "a9e46aad",
   "metadata": {},
   "source": [
    "<span style=\"font-width:bold; font-size: 3rem; color:#333;\">- Part 02: Daily Feature Pipeline for Air Quality (aqicn.org) and weather (openmeteo)</span>\n",
    "\n",
    "## 🗒️ This notebook is divided into the following sections:\n",
    "1. Download and Parse Data\n",
    "2. Feature Group Insertion\n",
    "\n",
    "\n",
    "__This notebook should be scheduled to run daily__\n",
    "\n",
    "In the book, we use a GitHub Action stored here:\n",
    "[.github/workflows/air-quality-daily.yml](https://github.com/featurestorebook/mlfs-book/blob/main/.github/workflows/air-quality-daily.yml)\n",
    "\n",
    "However, you are free to use any Python Orchestration tool to schedule this program to run daily."
   ]
  },
  {
   "cell_type": "markdown",
   "id": "cfe638c6",
   "metadata": {},
   "source": [
    "### <span style='color:#ff5f27'> 📝 0.Imports"
   ]
  },
  {
   "cell_type": "code",
   "execution_count": 43,
   "id": "7de2e93a",
   "metadata": {},
   "outputs": [
    {
     "name": "stdout",
     "output_type": "stream",
     "text": [
      "finished\n"
     ]
    }
   ],
   "source": [
    "import datetime\n",
    "import time\n",
    "import requests\n",
    "import pandas as pd\n",
    "import hopsworks\n",
    "from functions import util\n",
    "import json\n",
    "import os\n",
    "import warnings\n",
    "warnings.filterwarnings(\"ignore\")\n",
    "print('finished')"
   ]
  },
  {
   "cell_type": "markdown",
   "id": "da6081d1",
   "metadata": {},
   "source": [
    "## <span style='color:#ff5f27'> 🌍 1.1 Get the Sensor URL, Country, City, Street names from Hopsworks </span>\n",
    "\n",
    "__Update the values in the cell below.__\n",
    "\n",
    "__These should be the same values as in notebook 1 - the feature backfill notebook__\n"
   ]
  },
  {
   "cell_type": "code",
   "execution_count": 44,
   "id": "276fcba2-130b-41a8-98c3-744c66c89ad3",
   "metadata": {},
   "outputs": [
    {
     "name": "stdout",
     "output_type": "stream",
     "text": [
      "2024-12-12 20:15:37,404 INFO: Closing external client and cleaning up certificates.\n",
      "Connection closed.\n",
      "2024-12-12 20:15:37,423 INFO: Initializing external client\n",
      "2024-12-12 20:15:37,423 INFO: Base URL: https://c.app.hopsworks.ai:443\n",
      "2024-12-12 20:15:39,138 INFO: Python Engine initialized.\n",
      "\n",
      "Logged in to project, explore it here https://c.app.hopsworks.ai:443/p/1150100\n"
     ]
    }
   ],
   "source": [
    "# If you haven't set the env variable 'HOPSWORKS_API_KEY', then uncomment the next line and enter your API key\n",
    "with open('../../data/hopsworks-api-key.txt', 'r') as file:\n",
    "    os.environ[\"HOPSWORKS_API_KEY\"] = file.read().rstrip()\n",
    "project = hopsworks.login()"
   ]
  },
  {
   "cell_type": "code",
   "execution_count": 45,
   "id": "b70cd57d",
   "metadata": {
    "tags": []
   },
   "outputs": [
    {
     "name": "stdout",
     "output_type": "stream",
     "text": [
      "{\"country\": \"italy\", \"city\": \"toscana\", \"street\": \"pisa\", \"aqicn_url\": \"https://api.waqi.info/feed/@9432\", \"latitude\": 43.47, \"longitude\": 10.68}\n"
     ]
    }
   ],
   "source": [
    "\n",
    "\n",
    "fs = project.get_feature_store() \n",
    "#secrets = util.secrets_api(project.name)\n",
    "secrets = hopsworks.get_secrets_api()\n",
    "\n",
    "# This line will fail if you have not registered the AQI_API_KEY as a secret in Hopsworks\n",
    "AQI_API_KEY = secrets.get_secret(\"AQI_API_KEY\").value\n",
    "location_str = secrets.get_secret(\"SENSOR_LOCATION_JSON\").value\n",
    "#Now we just need to modify the first nb. The other ones are automatically updated\n",
    "location = json.loads(location_str)\n",
    "\n",
    "country=location['country']\n",
    "city=location['city']\n",
    "street=location['street']\n",
    "aqicn_url=location['aqicn_url']\n",
    "latitude=location['latitude']\n",
    "longitude=location['longitude']\n",
    "\n",
    "today = datetime.date.today()\n",
    "\n",
    "print(location_str)"
   ]
  },
  {
   "cell_type": "markdown",
   "id": "2caf9289",
   "metadata": {},
   "source": [
    "### <span style=\"color:#ff5f27;\"> 🔮 Get references to the Feature Groups </span>"
   ]
  },
  {
   "cell_type": "code",
   "execution_count": 46,
   "id": "66f5d7d5",
   "metadata": {},
   "outputs": [
    {
     "data": {
      "text/plain": [
       "<hsfs.feature_group.FeatureGroup at 0x188fdc21ea0>"
      ]
     },
     "execution_count": 46,
     "metadata": {},
     "output_type": "execute_result"
    }
   ],
   "source": [
    "# Retrieve feature groups\n",
    "air_quality_fg = fs.get_feature_group(\n",
    "    name='air_quality',\n",
    "    version=2,\n",
    ")\n",
    "weather_fg = fs.get_feature_group(\n",
    "    name='weather',\n",
    "    version=1,\n",
    ")\n",
    "weather_fg"
   ]
  },
  {
   "cell_type": "markdown",
   "id": "e10b6ce8",
   "metadata": {},
   "source": [
    "---"
   ]
  },
  {
   "cell_type": "markdown",
   "id": "69bb5f0c",
   "metadata": {},
   "source": [
    "## <span style='color:#ff5f27'> 2.Retrieve Datas using APIs</span>\n"
   ]
  },
  {
   "cell_type": "markdown",
   "id": "1a7ffa41",
   "metadata": {},
   "source": [
    "### <span style='color:#ff5f27'> 2.1 Retrieve Today's Air Quality data (PM2.5) from the AQI API</span>\n"
   ]
  },
  {
   "cell_type": "code",
   "execution_count": 47,
   "id": "df68b46a-d369-4cc8-8665-b5bba7c06d4f",
   "metadata": {},
   "outputs": [],
   "source": [
    "#import requests\n",
    "#import pandas as pd\n",
    "#yesterday = today - datetime.timedelta(days=3)\n",
    "\n",
    "#aq_tmp_df = util.get_pm25(aqicn_url, country, city, street, yesterday, AQI_API_KEY)\n",
    "# Function that gives back df from API request \n",
    "#aq_tmp_df"
   ]
  },
  {
   "cell_type": "code",
   "execution_count": 48,
   "id": "58b87191-627d-4a76-a9ed-3d1abc19d22c",
   "metadata": {},
   "outputs": [],
   "source": [
    "#fin_df = pd.concat([fin_df,aq_tmp_df])\n",
    "\n",
    "#fin_df"
   ]
  },
  {
   "cell_type": "code",
   "execution_count": 49,
   "id": "130e73a8-ec9e-441a-a8fe-16cad60c3d9f",
   "metadata": {},
   "outputs": [],
   "source": [
    "#air_quality_fg.insert(existing_df)"
   ]
  },
  {
   "cell_type": "code",
   "execution_count": 50,
   "id": "6f681af6",
   "metadata": {},
   "outputs": [
    {
     "data": {
      "text/html": [
       "<div>\n",
       "<style scoped>\n",
       "    .dataframe tbody tr th:only-of-type {\n",
       "        vertical-align: middle;\n",
       "    }\n",
       "\n",
       "    .dataframe tbody tr th {\n",
       "        vertical-align: top;\n",
       "    }\n",
       "\n",
       "    .dataframe thead th {\n",
       "        text-align: right;\n",
       "    }\n",
       "</style>\n",
       "<table border=\"1\" class=\"dataframe\">\n",
       "  <thead>\n",
       "    <tr style=\"text-align: right;\">\n",
       "      <th></th>\n",
       "      <th>pm25</th>\n",
       "      <th>country</th>\n",
       "      <th>city</th>\n",
       "      <th>street</th>\n",
       "      <th>date</th>\n",
       "      <th>url</th>\n",
       "    </tr>\n",
       "  </thead>\n",
       "  <tbody>\n",
       "    <tr>\n",
       "      <th>0</th>\n",
       "      <td>30.0</td>\n",
       "      <td>italy</td>\n",
       "      <td>toscana</td>\n",
       "      <td>pisa</td>\n",
       "      <td>2024-12-12</td>\n",
       "      <td>https://api.waqi.info/feed/@9432</td>\n",
       "    </tr>\n",
       "  </tbody>\n",
       "</table>\n",
       "</div>"
      ],
      "text/plain": [
       "   pm25 country     city street       date                               url\n",
       "0  30.0   italy  toscana   pisa 2024-12-12  https://api.waqi.info/feed/@9432"
      ]
     },
     "execution_count": 50,
     "metadata": {},
     "output_type": "execute_result"
    }
   ],
   "source": [
    "import requests\n",
    "import pandas as pd\n",
    "\n",
    "aq_today_df = util.get_pm25(aqicn_url, country, city, street, today, AQI_API_KEY)\n",
    "aq_today_df"
   ]
  },
  {
   "cell_type": "code",
   "execution_count": 51,
   "id": "b9e24eda",
   "metadata": {},
   "outputs": [],
   "source": [
    "#aq_today_df.info()"
   ]
  },
  {
   "cell_type": "code",
   "execution_count": 52,
   "id": "7fea6aeb-8271-424e-af42-b6470d7b2016",
   "metadata": {},
   "outputs": [
    {
     "name": "stdout",
     "output_type": "stream",
     "text": [
      "Finished: Reading data from Hopsworks, using Hopsworks Feature Query Service (1.03s) \n"
     ]
    },
    {
     "data": {
      "text/html": [
       "<div>\n",
       "<style scoped>\n",
       "    .dataframe tbody tr th:only-of-type {\n",
       "        vertical-align: middle;\n",
       "    }\n",
       "\n",
       "    .dataframe tbody tr th {\n",
       "        vertical-align: top;\n",
       "    }\n",
       "\n",
       "    .dataframe thead th {\n",
       "        text-align: right;\n",
       "    }\n",
       "</style>\n",
       "<table border=\"1\" class=\"dataframe\">\n",
       "  <thead>\n",
       "    <tr style=\"text-align: right;\">\n",
       "      <th></th>\n",
       "      <th>date</th>\n",
       "      <th>pm25</th>\n",
       "      <th>country</th>\n",
       "      <th>city</th>\n",
       "      <th>street</th>\n",
       "      <th>url</th>\n",
       "    </tr>\n",
       "  </thead>\n",
       "  <tbody>\n",
       "    <tr>\n",
       "      <th>2764</th>\n",
       "      <td>2024-12-12 00:00:00+00:00</td>\n",
       "      <td>30.0</td>\n",
       "      <td>italy</td>\n",
       "      <td>toscana</td>\n",
       "      <td>pisa</td>\n",
       "      <td>https://api.waqi.info/feed/@9432</td>\n",
       "    </tr>\n",
       "    <tr>\n",
       "      <th>2763</th>\n",
       "      <td>2024-11-25 00:00:00+00:00</td>\n",
       "      <td>50.0</td>\n",
       "      <td>italy</td>\n",
       "      <td>toscana</td>\n",
       "      <td>pisa</td>\n",
       "      <td>https://api.waqi.info/feed/@9432</td>\n",
       "    </tr>\n",
       "    <tr>\n",
       "      <th>2762</th>\n",
       "      <td>2024-11-24 00:00:00+00:00</td>\n",
       "      <td>42.0</td>\n",
       "      <td>italy</td>\n",
       "      <td>toscana</td>\n",
       "      <td>pisa</td>\n",
       "      <td>https://api.waqi.info/feed/@9432</td>\n",
       "    </tr>\n",
       "    <tr>\n",
       "      <th>2761</th>\n",
       "      <td>2024-11-23 00:00:00+00:00</td>\n",
       "      <td>42.0</td>\n",
       "      <td>italy</td>\n",
       "      <td>toscana</td>\n",
       "      <td>pisa</td>\n",
       "      <td>https://api.waqi.info/feed/@9432</td>\n",
       "    </tr>\n",
       "    <tr>\n",
       "      <th>2760</th>\n",
       "      <td>2024-11-22 00:00:00+00:00</td>\n",
       "      <td>42.0</td>\n",
       "      <td>italy</td>\n",
       "      <td>toscana</td>\n",
       "      <td>pisa</td>\n",
       "      <td>https://api.waqi.info/feed/@9432</td>\n",
       "    </tr>\n",
       "    <tr>\n",
       "      <th>...</th>\n",
       "      <td>...</td>\n",
       "      <td>...</td>\n",
       "      <td>...</td>\n",
       "      <td>...</td>\n",
       "      <td>...</td>\n",
       "      <td>...</td>\n",
       "    </tr>\n",
       "    <tr>\n",
       "      <th>1403</th>\n",
       "      <td>2017-01-07 00:00:00+00:00</td>\n",
       "      <td>55.0</td>\n",
       "      <td>italy</td>\n",
       "      <td>toscana</td>\n",
       "      <td>pisa</td>\n",
       "      <td>https://api.waqi.info/feed/@9432</td>\n",
       "    </tr>\n",
       "    <tr>\n",
       "      <th>1998</th>\n",
       "      <td>2017-01-06 00:00:00+00:00</td>\n",
       "      <td>42.0</td>\n",
       "      <td>italy</td>\n",
       "      <td>toscana</td>\n",
       "      <td>pisa</td>\n",
       "      <td>https://api.waqi.info/feed/@9432</td>\n",
       "    </tr>\n",
       "    <tr>\n",
       "      <th>1331</th>\n",
       "      <td>2017-01-05 00:00:00+00:00</td>\n",
       "      <td>50.0</td>\n",
       "      <td>italy</td>\n",
       "      <td>toscana</td>\n",
       "      <td>pisa</td>\n",
       "      <td>https://api.waqi.info/feed/@9432</td>\n",
       "    </tr>\n",
       "    <tr>\n",
       "      <th>730</th>\n",
       "      <td>2017-01-04 00:00:00+00:00</td>\n",
       "      <td>82.0</td>\n",
       "      <td>italy</td>\n",
       "      <td>toscana</td>\n",
       "      <td>pisa</td>\n",
       "      <td>https://api.waqi.info/feed/@9432</td>\n",
       "    </tr>\n",
       "    <tr>\n",
       "      <th>871</th>\n",
       "      <td>2017-01-03 00:00:00+00:00</td>\n",
       "      <td>42.0</td>\n",
       "      <td>italy</td>\n",
       "      <td>toscana</td>\n",
       "      <td>pisa</td>\n",
       "      <td>https://api.waqi.info/feed/@9432</td>\n",
       "    </tr>\n",
       "  </tbody>\n",
       "</table>\n",
       "<p>2765 rows × 6 columns</p>\n",
       "</div>"
      ],
      "text/plain": [
       "                          date  pm25 country     city street  \\\n",
       "2764 2024-12-12 00:00:00+00:00  30.0   italy  toscana   pisa   \n",
       "2763 2024-11-25 00:00:00+00:00  50.0   italy  toscana   pisa   \n",
       "2762 2024-11-24 00:00:00+00:00  42.0   italy  toscana   pisa   \n",
       "2761 2024-11-23 00:00:00+00:00  42.0   italy  toscana   pisa   \n",
       "2760 2024-11-22 00:00:00+00:00  42.0   italy  toscana   pisa   \n",
       "...                        ...   ...     ...      ...    ...   \n",
       "1403 2017-01-07 00:00:00+00:00  55.0   italy  toscana   pisa   \n",
       "1998 2017-01-06 00:00:00+00:00  42.0   italy  toscana   pisa   \n",
       "1331 2017-01-05 00:00:00+00:00  50.0   italy  toscana   pisa   \n",
       "730  2017-01-04 00:00:00+00:00  82.0   italy  toscana   pisa   \n",
       "871  2017-01-03 00:00:00+00:00  42.0   italy  toscana   pisa   \n",
       "\n",
       "                                   url  \n",
       "2764  https://api.waqi.info/feed/@9432  \n",
       "2763  https://api.waqi.info/feed/@9432  \n",
       "2762  https://api.waqi.info/feed/@9432  \n",
       "2761  https://api.waqi.info/feed/@9432  \n",
       "2760  https://api.waqi.info/feed/@9432  \n",
       "...                                ...  \n",
       "1403  https://api.waqi.info/feed/@9432  \n",
       "1998  https://api.waqi.info/feed/@9432  \n",
       "1331  https://api.waqi.info/feed/@9432  \n",
       "730   https://api.waqi.info/feed/@9432  \n",
       "871   https://api.waqi.info/feed/@9432  \n",
       "\n",
       "[2765 rows x 6 columns]"
      ]
     },
     "execution_count": 52,
     "metadata": {},
     "output_type": "execute_result"
    }
   ],
   "source": [
    "dfa = air_quality_fg.read()\n",
    "dfa = dfa.sort_values(by='date', ascending=False)  # Sorts in ascending order\n",
    "dfa"
   ]
  },
  {
   "cell_type": "markdown",
   "id": "af845ab6",
   "metadata": {},
   "source": [
    "### <span style='color:#ff5f27'> 2.2 Get Weather Forecast data</span>"
   ]
  },
  {
   "cell_type": "code",
   "execution_count": 53,
   "id": "fd6daa19-d1f3-4db2-85ee-203c03dd04a4",
   "metadata": {},
   "outputs": [
    {
     "name": "stdout",
     "output_type": "stream",
     "text": [
      "Coordinates 43.5°N 10.75°E\n",
      "Elevation 147.0 m asl\n",
      "Timezone None None\n",
      "Timezone difference to GMT+0 0 s\n"
     ]
    },
    {
     "data": {
      "text/html": [
       "<div>\n",
       "<style scoped>\n",
       "    .dataframe tbody tr th:only-of-type {\n",
       "        vertical-align: middle;\n",
       "    }\n",
       "\n",
       "    .dataframe tbody tr th {\n",
       "        vertical-align: top;\n",
       "    }\n",
       "\n",
       "    .dataframe thead th {\n",
       "        text-align: right;\n",
       "    }\n",
       "</style>\n",
       "<table border=\"1\" class=\"dataframe\">\n",
       "  <thead>\n",
       "    <tr style=\"text-align: right;\">\n",
       "      <th></th>\n",
       "      <th>date</th>\n",
       "      <th>temperature_2m_mean</th>\n",
       "      <th>precipitation_sum</th>\n",
       "      <th>wind_speed_10m_max</th>\n",
       "      <th>wind_direction_10m_dominant</th>\n",
       "    </tr>\n",
       "  </thead>\n",
       "  <tbody>\n",
       "    <tr>\n",
       "      <th>0</th>\n",
       "      <td>2024-12-12 00:00:00</td>\n",
       "      <td>2.5</td>\n",
       "      <td>0.0</td>\n",
       "      <td>4.024922</td>\n",
       "      <td>116.564987</td>\n",
       "    </tr>\n",
       "    <tr>\n",
       "      <th>1</th>\n",
       "      <td>2024-12-12 01:00:00</td>\n",
       "      <td>2.0</td>\n",
       "      <td>0.0</td>\n",
       "      <td>4.198285</td>\n",
       "      <td>120.963692</td>\n",
       "    </tr>\n",
       "    <tr>\n",
       "      <th>2</th>\n",
       "      <td>2024-12-12 02:00:00</td>\n",
       "      <td>1.4</td>\n",
       "      <td>0.0</td>\n",
       "      <td>4.693826</td>\n",
       "      <td>122.471176</td>\n",
       "    </tr>\n",
       "    <tr>\n",
       "      <th>3</th>\n",
       "      <td>2024-12-12 03:00:00</td>\n",
       "      <td>1.0</td>\n",
       "      <td>0.0</td>\n",
       "      <td>4.896530</td>\n",
       "      <td>126.027466</td>\n",
       "    </tr>\n",
       "    <tr>\n",
       "      <th>4</th>\n",
       "      <td>2024-12-12 04:00:00</td>\n",
       "      <td>0.6</td>\n",
       "      <td>0.0</td>\n",
       "      <td>5.191994</td>\n",
       "      <td>123.690094</td>\n",
       "    </tr>\n",
       "  </tbody>\n",
       "</table>\n",
       "</div>"
      ],
      "text/plain": [
       "                 date  temperature_2m_mean  precipitation_sum  \\\n",
       "0 2024-12-12 00:00:00                  2.5                0.0   \n",
       "1 2024-12-12 01:00:00                  2.0                0.0   \n",
       "2 2024-12-12 02:00:00                  1.4                0.0   \n",
       "3 2024-12-12 03:00:00                  1.0                0.0   \n",
       "4 2024-12-12 04:00:00                  0.6                0.0   \n",
       "\n",
       "   wind_speed_10m_max  wind_direction_10m_dominant  \n",
       "0            4.024922                   116.564987  \n",
       "1            4.198285                   120.963692  \n",
       "2            4.693826                   122.471176  \n",
       "3            4.896530                   126.027466  \n",
       "4            5.191994                   123.690094  "
      ]
     },
     "execution_count": 53,
     "metadata": {},
     "output_type": "execute_result"
    }
   ],
   "source": [
    "hourly_df = util.get_hourly_weather_forecast(city, latitude, longitude)\n",
    "# Function that gives back df from API request \n",
    "hourly_df.head()"
   ]
  },
  {
   "cell_type": "code",
   "execution_count": 54,
   "id": "d2ecb3e7",
   "metadata": {},
   "outputs": [
    {
     "data": {
      "text/html": [
       "<div>\n",
       "<style scoped>\n",
       "    .dataframe tbody tr th:only-of-type {\n",
       "        vertical-align: middle;\n",
       "    }\n",
       "\n",
       "    .dataframe tbody tr th {\n",
       "        vertical-align: top;\n",
       "    }\n",
       "\n",
       "    .dataframe thead th {\n",
       "        text-align: right;\n",
       "    }\n",
       "</style>\n",
       "<table border=\"1\" class=\"dataframe\">\n",
       "  <thead>\n",
       "    <tr style=\"text-align: right;\">\n",
       "      <th></th>\n",
       "      <th>date</th>\n",
       "      <th>temperature_2m_mean</th>\n",
       "      <th>precipitation_sum</th>\n",
       "      <th>wind_speed_10m_max</th>\n",
       "      <th>wind_direction_10m_dominant</th>\n",
       "      <th>city</th>\n",
       "    </tr>\n",
       "  </thead>\n",
       "  <tbody>\n",
       "    <tr>\n",
       "      <th>0</th>\n",
       "      <td>2024-12-12</td>\n",
       "      <td>10.70</td>\n",
       "      <td>0.0</td>\n",
       "      <td>9.449572</td>\n",
       "      <td>72.255241</td>\n",
       "      <td>toscana</td>\n",
       "    </tr>\n",
       "    <tr>\n",
       "      <th>1</th>\n",
       "      <td>2024-12-13</td>\n",
       "      <td>7.40</td>\n",
       "      <td>0.0</td>\n",
       "      <td>6.849467</td>\n",
       "      <td>86.987282</td>\n",
       "      <td>toscana</td>\n",
       "    </tr>\n",
       "    <tr>\n",
       "      <th>2</th>\n",
       "      <td>2024-12-14</td>\n",
       "      <td>9.15</td>\n",
       "      <td>0.3</td>\n",
       "      <td>4.693825</td>\n",
       "      <td>184.398621</td>\n",
       "      <td>toscana</td>\n",
       "    </tr>\n",
       "    <tr>\n",
       "      <th>3</th>\n",
       "      <td>2024-12-15</td>\n",
       "      <td>9.95</td>\n",
       "      <td>0.0</td>\n",
       "      <td>4.104631</td>\n",
       "      <td>74.744827</td>\n",
       "      <td>toscana</td>\n",
       "    </tr>\n",
       "    <tr>\n",
       "      <th>4</th>\n",
       "      <td>2024-12-16</td>\n",
       "      <td>11.55</td>\n",
       "      <td>0.0</td>\n",
       "      <td>0.804985</td>\n",
       "      <td>296.564972</td>\n",
       "      <td>toscana</td>\n",
       "    </tr>\n",
       "  </tbody>\n",
       "</table>\n",
       "</div>"
      ],
      "text/plain": [
       "        date  temperature_2m_mean  precipitation_sum  wind_speed_10m_max  \\\n",
       "0 2024-12-12                10.70                0.0            9.449572   \n",
       "1 2024-12-13                 7.40                0.0            6.849467   \n",
       "2 2024-12-14                 9.15                0.3            4.693825   \n",
       "3 2024-12-15                 9.95                0.0            4.104631   \n",
       "4 2024-12-16                11.55                0.0            0.804985   \n",
       "\n",
       "   wind_direction_10m_dominant     city  \n",
       "0                    72.255241  toscana  \n",
       "1                    86.987282  toscana  \n",
       "2                   184.398621  toscana  \n",
       "3                    74.744827  toscana  \n",
       "4                   296.564972  toscana  "
      ]
     },
     "execution_count": 54,
     "metadata": {},
     "output_type": "execute_result"
    }
   ],
   "source": [
    "hourly_df = hourly_df.set_index('date')\n",
    "\n",
    "# We will only make 1 daily prediction, so we will replace the hourly forecasts with a single daily forecast\n",
    "# We only want the daily weather data, so only get weather at 12:00\n",
    "daily_df = hourly_df.between_time('11:59', '12:01')\n",
    "daily_df = daily_df.reset_index()\n",
    "daily_df['date'] = pd.to_datetime(daily_df['date']).dt.date\n",
    "daily_df['date'] = pd.to_datetime(daily_df['date'])\n",
    "daily_df['city'] = city\n",
    "daily_df.head()"
   ]
  },
  {
   "cell_type": "code",
   "execution_count": 55,
   "id": "4c563109",
   "metadata": {},
   "outputs": [
    {
     "name": "stdout",
     "output_type": "stream",
     "text": [
      "<class 'pandas.core.frame.DataFrame'>\n",
      "RangeIndex: 10 entries, 0 to 9\n",
      "Data columns (total 6 columns):\n",
      " #   Column                       Non-Null Count  Dtype         \n",
      "---  ------                       --------------  -----         \n",
      " 0   date                         10 non-null     datetime64[ns]\n",
      " 1   temperature_2m_mean          10 non-null     float32       \n",
      " 2   precipitation_sum            10 non-null     float32       \n",
      " 3   wind_speed_10m_max           10 non-null     float32       \n",
      " 4   wind_direction_10m_dominant  10 non-null     float32       \n",
      " 5   city                         10 non-null     object        \n",
      "dtypes: datetime64[ns](1), float32(4), object(1)\n",
      "memory usage: 448.0+ bytes\n"
     ]
    }
   ],
   "source": [
    "daily_df.info()"
   ]
  },
  {
   "cell_type": "markdown",
   "id": "4e1f5008",
   "metadata": {
    "tags": []
   },
   "source": [
    "## <span style=\"color:#ff5f27;\">3.3 ⬆️ Uploading new data to the Feature Store</span>"
   ]
  },
  {
   "cell_type": "code",
   "execution_count": 56,
   "id": "07b05a80-9c40-4e58-b320-dce88bc6e869",
   "metadata": {},
   "outputs": [
    {
     "name": "stdout",
     "output_type": "stream",
     "text": [
      "2024-12-12 20:15:50,722 INFO: \t1 expectation(s) included in expectation_suite.\n",
      "Validation succeeded.\n",
      "Validation Report saved successfully, explore a summary at https://c.app.hopsworks.ai:443/p/1150100/fs/1140803/fg/1354080\n"
     ]
    },
    {
     "name": "stderr",
     "output_type": "stream",
     "text": [
      "Uploading Dataframe: 100.00% |█████████████████████████████████████████████████████████████████| Rows 1/1 | Elapsed Time: 00:00 | Remaining Time: 00:00\n"
     ]
    },
    {
     "name": "stdout",
     "output_type": "stream",
     "text": [
      "Launching job: air_quality_2_offline_fg_materialization\n",
      "Job started successfully, you can follow the progress at \n",
      "https://c.app.hopsworks.ai:443/p/1150100/jobs/named/air_quality_2_offline_fg_materialization/executions\n"
     ]
    },
    {
     "data": {
      "text/plain": [
       "(Job('air_quality_2_offline_fg_materialization', 'SPARK'),\n",
       " {\n",
       "   \"success\": true,\n",
       "   \"results\": [\n",
       "     {\n",
       "       \"success\": true,\n",
       "       \"expectation_config\": {\n",
       "         \"expectation_type\": \"expect_column_min_to_be_between\",\n",
       "         \"kwargs\": {\n",
       "           \"column\": \"pm25\",\n",
       "           \"min_value\": -0.1,\n",
       "           \"max_value\": 500.0,\n",
       "           \"strict_min\": true\n",
       "         },\n",
       "         \"meta\": {\n",
       "           \"expectationId\": 677934\n",
       "         }\n",
       "       },\n",
       "       \"result\": {\n",
       "         \"observed_value\": 30.0,\n",
       "         \"element_count\": 1,\n",
       "         \"missing_count\": null,\n",
       "         \"missing_percent\": null\n",
       "       },\n",
       "       \"meta\": {\n",
       "         \"ingestionResult\": \"INGESTED\",\n",
       "         \"validationTime\": \"2024-12-12T07:15:50.000722Z\"\n",
       "       },\n",
       "       \"exception_info\": {\n",
       "         \"raised_exception\": false,\n",
       "         \"exception_message\": null,\n",
       "         \"exception_traceback\": null\n",
       "       }\n",
       "     }\n",
       "   ],\n",
       "   \"evaluation_parameters\": {},\n",
       "   \"statistics\": {\n",
       "     \"evaluated_expectations\": 1,\n",
       "     \"successful_expectations\": 1,\n",
       "     \"unsuccessful_expectations\": 0,\n",
       "     \"success_percent\": 100.0\n",
       "   },\n",
       "   \"meta\": {\n",
       "     \"great_expectations_version\": \"0.18.12\",\n",
       "     \"expectation_suite_name\": \"aq_expectation_suite\",\n",
       "     \"run_id\": {\n",
       "       \"run_name\": null,\n",
       "       \"run_time\": \"2024-12-12T20:15:50.722301+01:00\"\n",
       "     },\n",
       "     \"batch_kwargs\": {\n",
       "       \"ge_batch_id\": \"7ffa1ffa-b8bd-11ef-ab4f-d0c0bf2f6045\"\n",
       "     },\n",
       "     \"batch_markers\": {},\n",
       "     \"batch_parameters\": {},\n",
       "     \"validation_time\": \"20241212T191550.722301Z\",\n",
       "     \"expectation_suite_meta\": {\n",
       "       \"great_expectations_version\": \"0.18.12\"\n",
       "     }\n",
       "   }\n",
       " })"
      ]
     },
     "execution_count": 56,
     "metadata": {},
     "output_type": "execute_result"
    }
   ],
   "source": [
    "# Insert new data\n",
    "air_quality_fg.insert(aq_today_df)"
   ]
  },
  {
   "cell_type": "code",
   "execution_count": 57,
   "id": "1a9de5ba",
   "metadata": {},
   "outputs": [
    {
     "name": "stdout",
     "output_type": "stream",
     "text": [
      "2024-12-12 20:16:02,639 INFO: \t1 expectation(s) included in expectation_suite.\n",
      "Validation succeeded.\n",
      "Validation Report saved successfully, explore a summary at https://c.app.hopsworks.ai:443/p/1150100/fs/1140803/fg/1354080\n"
     ]
    },
    {
     "name": "stderr",
     "output_type": "stream",
     "text": [
      "Uploading Dataframe: 100.00% |█████████████████████████████████████████████████████████████████| Rows 1/1 | Elapsed Time: 00:01 | Remaining Time: 00:00\n"
     ]
    },
    {
     "data": {
      "text/plain": [
       "(Job('air_quality_2_offline_fg_materialization', 'SPARK'),\n",
       " {\n",
       "   \"success\": true,\n",
       "   \"results\": [\n",
       "     {\n",
       "       \"success\": true,\n",
       "       \"expectation_config\": {\n",
       "         \"expectation_type\": \"expect_column_min_to_be_between\",\n",
       "         \"kwargs\": {\n",
       "           \"column\": \"pm25\",\n",
       "           \"min_value\": -0.1,\n",
       "           \"max_value\": 500.0,\n",
       "           \"strict_min\": true\n",
       "         },\n",
       "         \"meta\": {\n",
       "           \"expectationId\": 677934\n",
       "         }\n",
       "       },\n",
       "       \"result\": {\n",
       "         \"observed_value\": 30.0,\n",
       "         \"element_count\": 1,\n",
       "         \"missing_count\": null,\n",
       "         \"missing_percent\": null\n",
       "       },\n",
       "       \"meta\": {\n",
       "         \"ingestionResult\": \"INGESTED\",\n",
       "         \"validationTime\": \"2024-12-12T07:16:02.000639Z\"\n",
       "       },\n",
       "       \"exception_info\": {\n",
       "         \"raised_exception\": false,\n",
       "         \"exception_message\": null,\n",
       "         \"exception_traceback\": null\n",
       "       }\n",
       "     }\n",
       "   ],\n",
       "   \"evaluation_parameters\": {},\n",
       "   \"statistics\": {\n",
       "     \"evaluated_expectations\": 1,\n",
       "     \"successful_expectations\": 1,\n",
       "     \"unsuccessful_expectations\": 0,\n",
       "     \"success_percent\": 100.0\n",
       "   },\n",
       "   \"meta\": {\n",
       "     \"great_expectations_version\": \"0.18.12\",\n",
       "     \"expectation_suite_name\": \"aq_expectation_suite\",\n",
       "     \"run_id\": {\n",
       "       \"run_name\": null,\n",
       "       \"run_time\": \"2024-12-12T20:16:02.639565+01:00\"\n",
       "     },\n",
       "     \"batch_kwargs\": {\n",
       "       \"ge_batch_id\": \"8714b21c-b8bd-11ef-af67-d0c0bf2f6045\"\n",
       "     },\n",
       "     \"batch_markers\": {},\n",
       "     \"batch_parameters\": {},\n",
       "     \"validation_time\": \"20241212T191602.639565Z\",\n",
       "     \"expectation_suite_meta\": {\n",
       "       \"great_expectations_version\": \"0.18.12\"\n",
       "     }\n",
       "   }\n",
       " })"
      ]
     },
     "execution_count": 57,
     "metadata": {},
     "output_type": "execute_result"
    }
   ],
   "source": [
    "# Insert new data\n",
    "air_quality_fg.insert(aq_today_df)"
   ]
  },
  {
   "cell_type": "code",
   "execution_count": 58,
   "id": "d491b0a0",
   "metadata": {},
   "outputs": [
    {
     "name": "stdout",
     "output_type": "stream",
     "text": [
      "2024-12-12 20:16:10,327 INFO: \t2 expectation(s) included in expectation_suite.\n",
      "Validation succeeded.\n",
      "Validation Report saved successfully, explore a summary at https://c.app.hopsworks.ai:443/p/1150100/fs/1140803/fg/1345889\n"
     ]
    },
    {
     "name": "stderr",
     "output_type": "stream",
     "text": [
      "Uploading Dataframe: 100.00% |███████████████████████████████████████████████████████████████| Rows 10/10 | Elapsed Time: 00:01 | Remaining Time: 00:00\n"
     ]
    },
    {
     "name": "stdout",
     "output_type": "stream",
     "text": [
      "Launching job: weather_1_offline_fg_materialization\n",
      "Job started successfully, you can follow the progress at \n",
      "https://c.app.hopsworks.ai:443/p/1150100/jobs/named/weather_1_offline_fg_materialization/executions\n"
     ]
    },
    {
     "data": {
      "text/plain": [
       "(Job('weather_1_offline_fg_materialization', 'SPARK'),\n",
       " {\n",
       "   \"success\": true,\n",
       "   \"results\": [\n",
       "     {\n",
       "       \"success\": true,\n",
       "       \"expectation_config\": {\n",
       "         \"expectation_type\": \"expect_column_min_to_be_between\",\n",
       "         \"kwargs\": {\n",
       "           \"column\": \"wind_speed_10m_max\",\n",
       "           \"min_value\": -0.1,\n",
       "           \"max_value\": 1000.0,\n",
       "           \"strict_min\": true\n",
       "         },\n",
       "         \"meta\": {\n",
       "           \"expectationId\": 669711\n",
       "         }\n",
       "       },\n",
       "       \"result\": {\n",
       "         \"observed_value\": 0.8049845099449158,\n",
       "         \"element_count\": 10,\n",
       "         \"missing_count\": null,\n",
       "         \"missing_percent\": null\n",
       "       },\n",
       "       \"meta\": {\n",
       "         \"ingestionResult\": \"INGESTED\",\n",
       "         \"validationTime\": \"2024-12-12T07:16:10.000326Z\"\n",
       "       },\n",
       "       \"exception_info\": {\n",
       "         \"raised_exception\": false,\n",
       "         \"exception_message\": null,\n",
       "         \"exception_traceback\": null\n",
       "       }\n",
       "     },\n",
       "     {\n",
       "       \"success\": true,\n",
       "       \"expectation_config\": {\n",
       "         \"expectation_type\": \"expect_column_min_to_be_between\",\n",
       "         \"kwargs\": {\n",
       "           \"column\": \"precipitation_sum\",\n",
       "           \"min_value\": -0.1,\n",
       "           \"max_value\": 1000.0,\n",
       "           \"strict_min\": true\n",
       "         },\n",
       "         \"meta\": {\n",
       "           \"expectationId\": 669710\n",
       "         }\n",
       "       },\n",
       "       \"result\": {\n",
       "         \"observed_value\": 0.0,\n",
       "         \"element_count\": 10,\n",
       "         \"missing_count\": null,\n",
       "         \"missing_percent\": null\n",
       "       },\n",
       "       \"meta\": {\n",
       "         \"ingestionResult\": \"INGESTED\",\n",
       "         \"validationTime\": \"2024-12-12T07:16:10.000326Z\"\n",
       "       },\n",
       "       \"exception_info\": {\n",
       "         \"raised_exception\": false,\n",
       "         \"exception_message\": null,\n",
       "         \"exception_traceback\": null\n",
       "       }\n",
       "     }\n",
       "   ],\n",
       "   \"evaluation_parameters\": {},\n",
       "   \"statistics\": {\n",
       "     \"evaluated_expectations\": 2,\n",
       "     \"successful_expectations\": 2,\n",
       "     \"unsuccessful_expectations\": 0,\n",
       "     \"success_percent\": 100.0\n",
       "   },\n",
       "   \"meta\": {\n",
       "     \"great_expectations_version\": \"0.18.12\",\n",
       "     \"expectation_suite_name\": \"weather_expectation_suite\",\n",
       "     \"run_id\": {\n",
       "       \"run_name\": null,\n",
       "       \"run_time\": \"2024-12-12T20:16:10.326310+01:00\"\n",
       "     },\n",
       "     \"batch_kwargs\": {\n",
       "       \"ge_batch_id\": \"8ba9c383-b8bd-11ef-b919-d0c0bf2f6045\"\n",
       "     },\n",
       "     \"batch_markers\": {},\n",
       "     \"batch_parameters\": {},\n",
       "     \"validation_time\": \"20241212T191610.326310Z\",\n",
       "     \"expectation_suite_meta\": {\n",
       "       \"great_expectations_version\": \"0.18.12\"\n",
       "     }\n",
       "   }\n",
       " })"
      ]
     },
     "execution_count": 58,
     "metadata": {},
     "output_type": "execute_result"
    }
   ],
   "source": [
    "# Insert new data\n",
    "weather_fg.insert(daily_df)"
   ]
  },
  {
   "cell_type": "markdown",
   "id": "c83e9e2d",
   "metadata": {},
   "source": [
    "## <span style=\"color:#ff5f27;\">⏭️ **Next:** Part 03: Training Pipeline\n",
    " </span> \n",
    "\n",
    "In the following notebook you will read from a feature group and create training dataset within the feature store\n"
   ]
  },
  {
   "cell_type": "code",
   "execution_count": 59,
   "id": "6cfe1714-14e4-4598-9c09-c3535aa5cd51",
   "metadata": {},
   "outputs": [
    {
     "data": {
      "text/html": [
       "<div>\n",
       "<style scoped>\n",
       "    .dataframe tbody tr th:only-of-type {\n",
       "        vertical-align: middle;\n",
       "    }\n",
       "\n",
       "    .dataframe tbody tr th {\n",
       "        vertical-align: top;\n",
       "    }\n",
       "\n",
       "    .dataframe thead th {\n",
       "        text-align: right;\n",
       "    }\n",
       "</style>\n",
       "<table border=\"1\" class=\"dataframe\">\n",
       "  <thead>\n",
       "    <tr style=\"text-align: right;\">\n",
       "      <th></th>\n",
       "      <th>date</th>\n",
       "      <th>pm25</th>\n",
       "      <th>country</th>\n",
       "      <th>city</th>\n",
       "      <th>street</th>\n",
       "      <th>url</th>\n",
       "      <th>pm25_rolling</th>\n",
       "    </tr>\n",
       "  </thead>\n",
       "  <tbody>\n",
       "    <tr>\n",
       "      <th>2764</th>\n",
       "      <td>2024-12-12 00:00:00+00:00</td>\n",
       "      <td>30.0</td>\n",
       "      <td>italy</td>\n",
       "      <td>toscana</td>\n",
       "      <td>pisa</td>\n",
       "      <td>https://api.waqi.info/feed/@9432</td>\n",
       "      <td>30.000000</td>\n",
       "    </tr>\n",
       "    <tr>\n",
       "      <th>2763</th>\n",
       "      <td>2024-11-25 00:00:00+00:00</td>\n",
       "      <td>50.0</td>\n",
       "      <td>italy</td>\n",
       "      <td>toscana</td>\n",
       "      <td>pisa</td>\n",
       "      <td>https://api.waqi.info/feed/@9432</td>\n",
       "      <td>40.000000</td>\n",
       "    </tr>\n",
       "    <tr>\n",
       "      <th>2762</th>\n",
       "      <td>2024-11-24 00:00:00+00:00</td>\n",
       "      <td>42.0</td>\n",
       "      <td>italy</td>\n",
       "      <td>toscana</td>\n",
       "      <td>pisa</td>\n",
       "      <td>https://api.waqi.info/feed/@9432</td>\n",
       "      <td>40.666667</td>\n",
       "    </tr>\n",
       "    <tr>\n",
       "      <th>2761</th>\n",
       "      <td>2024-11-23 00:00:00+00:00</td>\n",
       "      <td>42.0</td>\n",
       "      <td>italy</td>\n",
       "      <td>toscana</td>\n",
       "      <td>pisa</td>\n",
       "      <td>https://api.waqi.info/feed/@9432</td>\n",
       "      <td>44.666667</td>\n",
       "    </tr>\n",
       "    <tr>\n",
       "      <th>2760</th>\n",
       "      <td>2024-11-22 00:00:00+00:00</td>\n",
       "      <td>42.0</td>\n",
       "      <td>italy</td>\n",
       "      <td>toscana</td>\n",
       "      <td>pisa</td>\n",
       "      <td>https://api.waqi.info/feed/@9432</td>\n",
       "      <td>42.000000</td>\n",
       "    </tr>\n",
       "    <tr>\n",
       "      <th>...</th>\n",
       "      <td>...</td>\n",
       "      <td>...</td>\n",
       "      <td>...</td>\n",
       "      <td>...</td>\n",
       "      <td>...</td>\n",
       "      <td>...</td>\n",
       "      <td>...</td>\n",
       "    </tr>\n",
       "    <tr>\n",
       "      <th>1403</th>\n",
       "      <td>2017-01-07 00:00:00+00:00</td>\n",
       "      <td>55.0</td>\n",
       "      <td>italy</td>\n",
       "      <td>toscana</td>\n",
       "      <td>pisa</td>\n",
       "      <td>https://api.waqi.info/feed/@9432</td>\n",
       "      <td>81.000000</td>\n",
       "    </tr>\n",
       "    <tr>\n",
       "      <th>1998</th>\n",
       "      <td>2017-01-06 00:00:00+00:00</td>\n",
       "      <td>42.0</td>\n",
       "      <td>italy</td>\n",
       "      <td>toscana</td>\n",
       "      <td>pisa</td>\n",
       "      <td>https://api.waqi.info/feed/@9432</td>\n",
       "      <td>57.666667</td>\n",
       "    </tr>\n",
       "    <tr>\n",
       "      <th>1331</th>\n",
       "      <td>2017-01-05 00:00:00+00:00</td>\n",
       "      <td>50.0</td>\n",
       "      <td>italy</td>\n",
       "      <td>toscana</td>\n",
       "      <td>pisa</td>\n",
       "      <td>https://api.waqi.info/feed/@9432</td>\n",
       "      <td>49.000000</td>\n",
       "    </tr>\n",
       "    <tr>\n",
       "      <th>730</th>\n",
       "      <td>2017-01-04 00:00:00+00:00</td>\n",
       "      <td>82.0</td>\n",
       "      <td>italy</td>\n",
       "      <td>toscana</td>\n",
       "      <td>pisa</td>\n",
       "      <td>https://api.waqi.info/feed/@9432</td>\n",
       "      <td>58.000000</td>\n",
       "    </tr>\n",
       "    <tr>\n",
       "      <th>871</th>\n",
       "      <td>2017-01-03 00:00:00+00:00</td>\n",
       "      <td>42.0</td>\n",
       "      <td>italy</td>\n",
       "      <td>toscana</td>\n",
       "      <td>pisa</td>\n",
       "      <td>https://api.waqi.info/feed/@9432</td>\n",
       "      <td>58.000000</td>\n",
       "    </tr>\n",
       "  </tbody>\n",
       "</table>\n",
       "<p>2765 rows × 7 columns</p>\n",
       "</div>"
      ],
      "text/plain": [
       "                          date  pm25 country     city street  \\\n",
       "2764 2024-12-12 00:00:00+00:00  30.0   italy  toscana   pisa   \n",
       "2763 2024-11-25 00:00:00+00:00  50.0   italy  toscana   pisa   \n",
       "2762 2024-11-24 00:00:00+00:00  42.0   italy  toscana   pisa   \n",
       "2761 2024-11-23 00:00:00+00:00  42.0   italy  toscana   pisa   \n",
       "2760 2024-11-22 00:00:00+00:00  42.0   italy  toscana   pisa   \n",
       "...                        ...   ...     ...      ...    ...   \n",
       "1403 2017-01-07 00:00:00+00:00  55.0   italy  toscana   pisa   \n",
       "1998 2017-01-06 00:00:00+00:00  42.0   italy  toscana   pisa   \n",
       "1331 2017-01-05 00:00:00+00:00  50.0   italy  toscana   pisa   \n",
       "730  2017-01-04 00:00:00+00:00  82.0   italy  toscana   pisa   \n",
       "871  2017-01-03 00:00:00+00:00  42.0   italy  toscana   pisa   \n",
       "\n",
       "                                   url  pm25_rolling  \n",
       "2764  https://api.waqi.info/feed/@9432     30.000000  \n",
       "2763  https://api.waqi.info/feed/@9432     40.000000  \n",
       "2762  https://api.waqi.info/feed/@9432     40.666667  \n",
       "2761  https://api.waqi.info/feed/@9432     44.666667  \n",
       "2760  https://api.waqi.info/feed/@9432     42.000000  \n",
       "...                                ...           ...  \n",
       "1403  https://api.waqi.info/feed/@9432     81.000000  \n",
       "1998  https://api.waqi.info/feed/@9432     57.666667  \n",
       "1331  https://api.waqi.info/feed/@9432     49.000000  \n",
       "730   https://api.waqi.info/feed/@9432     58.000000  \n",
       "871   https://api.waqi.info/feed/@9432     58.000000  \n",
       "\n",
       "[2765 rows x 7 columns]"
      ]
     },
     "execution_count": 59,
     "metadata": {},
     "output_type": "execute_result"
    }
   ],
   "source": [
    "dfa['pm25_rolling'] = dfa['pm25'].rolling(window=3, min_periods=1).mean()\n",
    "dfa['pm25_rolling'] = dfa['pm25_rolling'].fillna(dfa['pm25'])\n",
    "dfa"
   ]
  },
  {
   "cell_type": "markdown",
   "id": "83b3489c-f820-41c8-bb2f-335762db7ae1",
   "metadata": {},
   "source": [
    "## Adding the Rolling Windows Datagroup"
   ]
  },
  {
   "cell_type": "code",
   "execution_count": 60,
   "id": "cc08dbb1-ae3a-4f63-ae58-0c1901c4a1dc",
   "metadata": {},
   "outputs": [],
   "source": [
    "air_quality_roll_fg = fs.get_or_create_feature_group(\n",
    "    name='air_quality_roll',\n",
    "    description='Air Quality characteristics of each day, rolling feature',\n",
    "    version=1,\n",
    "    primary_key=['city', 'street', 'date'],\n",
    "    event_time=\"date\"\n",
    ")"
   ]
  },
  {
   "cell_type": "code",
   "execution_count": 61,
   "id": "a98d6b63-31ba-4c31-9c98-692d94998086",
   "metadata": {},
   "outputs": [
    {
     "name": "stderr",
     "output_type": "stream",
     "text": [
      "Uploading Dataframe: 100.00% |███████████████████████████████████████████████████████████| Rows 2765/2765 | Elapsed Time: 00:01 | Remaining Time: 00:00\n"
     ]
    },
    {
     "name": "stdout",
     "output_type": "stream",
     "text": [
      "Launching job: air_quality_roll_1_offline_fg_materialization\n",
      "Job started successfully, you can follow the progress at \n",
      "https://c.app.hopsworks.ai:443/p/1150100/jobs/named/air_quality_roll_1_offline_fg_materialization/executions\n"
     ]
    },
    {
     "data": {
      "text/plain": [
       "(Job('air_quality_roll_1_offline_fg_materialization', 'SPARK'), None)"
      ]
     },
     "execution_count": 61,
     "metadata": {},
     "output_type": "execute_result"
    }
   ],
   "source": [
    "air_quality_roll_fg.insert(dfa)"
   ]
  },
  {
   "cell_type": "code",
   "execution_count": 62,
   "id": "88681d8f-8fa8-45d1-9a0a-d5de810cf1e8",
   "metadata": {},
   "outputs": [
    {
     "name": "stdout",
     "output_type": "stream",
     "text": [
      "Finished: Reading data from Hopsworks, using Hopsworks Feature Query Service (1.10s) \n"
     ]
    }
   ],
   "source": [
    "df_lagged = air_quality_roll_fg.read()"
   ]
  },
  {
   "cell_type": "code",
   "execution_count": 63,
   "id": "8e8d8fc8-9543-4095-969f-149f6734cd2f",
   "metadata": {},
   "outputs": [
    {
     "data": {
      "text/html": [
       "<div>\n",
       "<style scoped>\n",
       "    .dataframe tbody tr th:only-of-type {\n",
       "        vertical-align: middle;\n",
       "    }\n",
       "\n",
       "    .dataframe tbody tr th {\n",
       "        vertical-align: top;\n",
       "    }\n",
       "\n",
       "    .dataframe thead th {\n",
       "        text-align: right;\n",
       "    }\n",
       "</style>\n",
       "<table border=\"1\" class=\"dataframe\">\n",
       "  <thead>\n",
       "    <tr style=\"text-align: right;\">\n",
       "      <th></th>\n",
       "      <th>date</th>\n",
       "      <th>pm25</th>\n",
       "      <th>country</th>\n",
       "      <th>city</th>\n",
       "      <th>street</th>\n",
       "      <th>url</th>\n",
       "      <th>pm25_rolling</th>\n",
       "    </tr>\n",
       "  </thead>\n",
       "  <tbody>\n",
       "    <tr>\n",
       "      <th>2764</th>\n",
       "      <td>2024-12-12 00:00:00+00:00</td>\n",
       "      <td>30.0</td>\n",
       "      <td>italy</td>\n",
       "      <td>toscana</td>\n",
       "      <td>pisa</td>\n",
       "      <td>https://api.waqi.info/feed/@9432</td>\n",
       "      <td>30.000000</td>\n",
       "    </tr>\n",
       "    <tr>\n",
       "      <th>2763</th>\n",
       "      <td>2024-11-25 00:00:00+00:00</td>\n",
       "      <td>50.0</td>\n",
       "      <td>italy</td>\n",
       "      <td>toscana</td>\n",
       "      <td>pisa</td>\n",
       "      <td>https://api.waqi.info/feed/@9432</td>\n",
       "      <td>40.000000</td>\n",
       "    </tr>\n",
       "    <tr>\n",
       "      <th>2762</th>\n",
       "      <td>2024-11-24 00:00:00+00:00</td>\n",
       "      <td>42.0</td>\n",
       "      <td>italy</td>\n",
       "      <td>toscana</td>\n",
       "      <td>pisa</td>\n",
       "      <td>https://api.waqi.info/feed/@9432</td>\n",
       "      <td>40.666667</td>\n",
       "    </tr>\n",
       "    <tr>\n",
       "      <th>2761</th>\n",
       "      <td>2024-11-23 00:00:00+00:00</td>\n",
       "      <td>42.0</td>\n",
       "      <td>italy</td>\n",
       "      <td>toscana</td>\n",
       "      <td>pisa</td>\n",
       "      <td>https://api.waqi.info/feed/@9432</td>\n",
       "      <td>44.666667</td>\n",
       "    </tr>\n",
       "    <tr>\n",
       "      <th>2760</th>\n",
       "      <td>2024-11-22 00:00:00+00:00</td>\n",
       "      <td>42.0</td>\n",
       "      <td>italy</td>\n",
       "      <td>toscana</td>\n",
       "      <td>pisa</td>\n",
       "      <td>https://api.waqi.info/feed/@9432</td>\n",
       "      <td>42.000000</td>\n",
       "    </tr>\n",
       "    <tr>\n",
       "      <th>...</th>\n",
       "      <td>...</td>\n",
       "      <td>...</td>\n",
       "      <td>...</td>\n",
       "      <td>...</td>\n",
       "      <td>...</td>\n",
       "      <td>...</td>\n",
       "      <td>...</td>\n",
       "    </tr>\n",
       "    <tr>\n",
       "      <th>1984</th>\n",
       "      <td>2017-01-07 00:00:00+00:00</td>\n",
       "      <td>55.0</td>\n",
       "      <td>italy</td>\n",
       "      <td>toscana</td>\n",
       "      <td>pisa</td>\n",
       "      <td>https://api.waqi.info/feed/@9432</td>\n",
       "      <td>81.000000</td>\n",
       "    </tr>\n",
       "    <tr>\n",
       "      <th>377</th>\n",
       "      <td>2017-01-06 00:00:00+00:00</td>\n",
       "      <td>42.0</td>\n",
       "      <td>italy</td>\n",
       "      <td>toscana</td>\n",
       "      <td>pisa</td>\n",
       "      <td>https://api.waqi.info/feed/@9432</td>\n",
       "      <td>57.666667</td>\n",
       "    </tr>\n",
       "    <tr>\n",
       "      <th>946</th>\n",
       "      <td>2017-01-05 00:00:00+00:00</td>\n",
       "      <td>50.0</td>\n",
       "      <td>italy</td>\n",
       "      <td>toscana</td>\n",
       "      <td>pisa</td>\n",
       "      <td>https://api.waqi.info/feed/@9432</td>\n",
       "      <td>49.000000</td>\n",
       "    </tr>\n",
       "    <tr>\n",
       "      <th>728</th>\n",
       "      <td>2017-01-04 00:00:00+00:00</td>\n",
       "      <td>82.0</td>\n",
       "      <td>italy</td>\n",
       "      <td>toscana</td>\n",
       "      <td>pisa</td>\n",
       "      <td>https://api.waqi.info/feed/@9432</td>\n",
       "      <td>58.000000</td>\n",
       "    </tr>\n",
       "    <tr>\n",
       "      <th>243</th>\n",
       "      <td>2017-01-03 00:00:00+00:00</td>\n",
       "      <td>42.0</td>\n",
       "      <td>italy</td>\n",
       "      <td>toscana</td>\n",
       "      <td>pisa</td>\n",
       "      <td>https://api.waqi.info/feed/@9432</td>\n",
       "      <td>58.000000</td>\n",
       "    </tr>\n",
       "  </tbody>\n",
       "</table>\n",
       "<p>2765 rows × 7 columns</p>\n",
       "</div>"
      ],
      "text/plain": [
       "                          date  pm25 country     city street  \\\n",
       "2764 2024-12-12 00:00:00+00:00  30.0   italy  toscana   pisa   \n",
       "2763 2024-11-25 00:00:00+00:00  50.0   italy  toscana   pisa   \n",
       "2762 2024-11-24 00:00:00+00:00  42.0   italy  toscana   pisa   \n",
       "2761 2024-11-23 00:00:00+00:00  42.0   italy  toscana   pisa   \n",
       "2760 2024-11-22 00:00:00+00:00  42.0   italy  toscana   pisa   \n",
       "...                        ...   ...     ...      ...    ...   \n",
       "1984 2017-01-07 00:00:00+00:00  55.0   italy  toscana   pisa   \n",
       "377  2017-01-06 00:00:00+00:00  42.0   italy  toscana   pisa   \n",
       "946  2017-01-05 00:00:00+00:00  50.0   italy  toscana   pisa   \n",
       "728  2017-01-04 00:00:00+00:00  82.0   italy  toscana   pisa   \n",
       "243  2017-01-03 00:00:00+00:00  42.0   italy  toscana   pisa   \n",
       "\n",
       "                                   url  pm25_rolling  \n",
       "2764  https://api.waqi.info/feed/@9432     30.000000  \n",
       "2763  https://api.waqi.info/feed/@9432     40.000000  \n",
       "2762  https://api.waqi.info/feed/@9432     40.666667  \n",
       "2761  https://api.waqi.info/feed/@9432     44.666667  \n",
       "2760  https://api.waqi.info/feed/@9432     42.000000  \n",
       "...                                ...           ...  \n",
       "1984  https://api.waqi.info/feed/@9432     81.000000  \n",
       "377   https://api.waqi.info/feed/@9432     57.666667  \n",
       "946   https://api.waqi.info/feed/@9432     49.000000  \n",
       "728   https://api.waqi.info/feed/@9432     58.000000  \n",
       "243   https://api.waqi.info/feed/@9432     58.000000  \n",
       "\n",
       "[2765 rows x 7 columns]"
      ]
     },
     "execution_count": 63,
     "metadata": {},
     "output_type": "execute_result"
    }
   ],
   "source": [
    "df_lagged = df_lagged.sort_values(by='date', ascending=False)\n",
    "df_lagged"
   ]
  },
  {
   "cell_type": "code",
   "execution_count": null,
   "id": "91c3f4df-7330-4d15-9291-4b6307361879",
   "metadata": {},
   "outputs": [],
   "source": []
  },
  {
   "cell_type": "code",
   "execution_count": null,
   "id": "4209e447-20a9-415c-889e-274ba728d686",
   "metadata": {},
   "outputs": [],
   "source": []
  },
  {
   "cell_type": "code",
   "execution_count": null,
   "id": "20028e8a-4897-4b1b-891e-b711d8116ecb",
   "metadata": {},
   "outputs": [],
   "source": []
  }
 ],
 "metadata": {
  "kernelspec": {
   "display_name": "Python (lab1)",
   "language": "python",
   "name": "lab1"
  },
  "language_info": {
   "codemirror_mode": {
    "name": "ipython",
    "version": 3
   },
   "file_extension": ".py",
   "mimetype": "text/x-python",
   "name": "python",
   "nbconvert_exporter": "python",
   "pygments_lexer": "ipython3",
   "version": "3.10.15"
  }
 },
 "nbformat": 4,
 "nbformat_minor": 5
}
