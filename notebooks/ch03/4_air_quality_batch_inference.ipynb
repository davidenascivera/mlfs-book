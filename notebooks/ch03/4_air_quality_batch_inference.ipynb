{
 "cells": [
  {
   "cell_type": "markdown",
   "id": "f16b7819",
   "metadata": {},
   "source": [
    "# <span style=\"font-width:bold; font-size: 3rem; color:#1EB182;\"> **Air Quality** </span><span style=\"font-width:bold; font-size: 3rem; color:#333;\">- Part 04: Batch Inference</span>\n",
    "\n",
    "## 🗒️ This notebook is divided into the following sections:\n",
    "\n",
    "1. Download model and batch inference data\n",
    "2. Make predictions, generate PNG for forecast\n",
    "3. Store predictions in a monitoring feature group adn generate PNG for hindcast"
   ]
  },
  {
   "cell_type": "markdown",
   "id": "49a84ee9",
   "metadata": {},
   "source": [
    "## <span style='color:#ff5f27'> 📝 Imports"
   ]
  },
  {
   "cell_type": "code",
   "execution_count": null,
   "id": "1f430c88",
   "metadata": {},
   "outputs": [],
   "source": [
    "import datetime\n",
    "import pandas as pd\n",
    "from xgboost import XGBRegressor\n",
    "import hopsworks\n",
    "import json\n",
    "from functions import util\n",
    "import os"
   ]
  },
  {
   "cell_type": "code",
   "execution_count": null,
   "id": "bcfd27c1",
   "metadata": {},
   "outputs": [],
   "source": [
    "today = datetime.datetime.now() - datetime.timedelta(0)\n",
    "tomorrow = today + datetime.timedelta(days = 1)\n",
    "today"
   ]
  },
  {
   "cell_type": "markdown",
   "id": "4e91e99d",
   "metadata": {},
   "source": [
    "## <span style=\"color:#ff5f27;\"> 📡 Connect to Hopsworks Feature Store </span>"
   ]
  },
  {
   "cell_type": "code",
   "execution_count": null,
   "id": "74a2c243",
   "metadata": {},
   "outputs": [],
   "source": [
    "with open('../../data/hopsworks-api-key.txt', 'r') as file:\n",
    "    os.environ[\"HOPSWORKS_API_KEY\"] = file.read().rstrip()\n",
    "\n",
    "project = hopsworks.login()\n",
    "fs = project.get_feature_store() \n",
    "\n",
    "secrets = util.secrets_api(project.name)\n",
    "location_str = secrets.get_secret(\"SENSOR_LOCATION_JSON\").value\n",
    "location = json.loads(location_str)\n",
    "country=location['country']\n",
    "city=location['city']\n",
    "street=location['street']"
   ]
  },
  {
   "cell_type": "markdown",
   "id": "4f138859",
   "metadata": {},
   "source": [
    "## <span style=\"color:#ff5f27;\"> ⚙️ Feature View Retrieval</span>\n"
   ]
  },
  {
   "cell_type": "code",
   "execution_count": null,
   "id": "114b8e87",
   "metadata": {},
   "outputs": [],
   "source": [
    "feature_view = fs.get_feature_view(\n",
    "    name='air_quality_fv',\n",
    "    version=1,\n",
    ")"
   ]
  },
  {
   "cell_type": "markdown",
   "id": "4cead441",
   "metadata": {},
   "source": [
    "## <span style=\"color:#ff5f27;\">🪝 Download the model from Model Registry</span>"
   ]
  },
  {
   "cell_type": "code",
   "execution_count": null,
   "id": "c6d70a2f",
   "metadata": {},
   "outputs": [],
   "source": [
    "mr = project.get_model_registry()\n",
    "\n",
    "retrieved_model = mr.get_model(\n",
    "    name=\"air_quality_xgboost_model\",\n",
    "    version=1,\n",
    ")\n",
    "\n",
    "# Download the saved model artifacts to a local directory\n",
    "saved_model_dir = retrieved_model.download()"
   ]
  },
  {
   "cell_type": "code",
   "execution_count": null,
   "id": "a6cf6c06",
   "metadata": {},
   "outputs": [],
   "source": [
    "# Loading the XGBoost regressor model and label encoder from the saved model directory\n",
    "# retrieved_xgboost_model = joblib.load(saved_model_dir + \"/xgboost_regressor.pkl\")\n",
    "retrieved_xgboost_model = XGBRegressor()\n",
    "\n",
    "retrieved_xgboost_model.load_model(saved_model_dir + \"/model.json\")\n",
    "\n",
    "# Displaying the retrieved XGBoost regressor model\n",
    "retrieved_xgboost_model"
   ]
  },
  {
   "cell_type": "markdown",
   "id": "43ad941a",
   "metadata": {},
   "source": [
    "## <span style=\"color:#ff5f27;\">✨ Get Weather Forecast Features with Feature View   </span>\n",
    "\n"
   ]
  },
  {
   "cell_type": "code",
   "execution_count": null,
   "id": "aaacae3c",
   "metadata": {},
   "outputs": [],
   "source": [
    "weather_fg = fs.get_feature_group(\n",
    "    name='weather',\n",
    "    version=1,\n",
    ")\n",
    "batch_data = weather_fg.filter(weather_fg.date >= today).read()\n",
    "batch_data"
   ]
  },
  {
   "cell_type": "markdown",
   "id": "804e4491",
   "metadata": {},
   "source": [
    "### <span style=\"color:#ff5f27;\">🤖 Making the predictions</span>"
   ]
  },
  {
   "cell_type": "code",
   "execution_count": null,
   "id": "4566b635",
   "metadata": {},
   "outputs": [],
   "source": [
    "batch_data['predicted_pm25'] = retrieved_xgboost_model.predict(\n",
    "    batch_data[['temperature_2m_mean', 'precipitation_sum', 'wind_speed_10m_max', 'wind_direction_10m_dominant']])\n",
    "batch_data"
   ]
  },
  {
   "cell_type": "code",
   "execution_count": null,
   "id": "95d78ba2",
   "metadata": {},
   "outputs": [],
   "source": [
    "batch_data.info()"
   ]
  },
  {
   "cell_type": "markdown",
   "id": "d23e2b0a",
   "metadata": {},
   "source": [
    "### <span style=\"color:#ff5f27;\">🤖 Saving the predictions (for monitoring) to a Feature Group</span>"
   ]
  },
  {
   "cell_type": "code",
   "execution_count": null,
   "id": "9d5d9436",
   "metadata": {},
   "outputs": [],
   "source": [
    "batch_data['street'] = street\n",
    "batch_data['city'] = city\n",
    "batch_data['country'] = country\n",
    "# Fill in the number of days before the date on which you made the forecast (base_date)\n",
    "batch_data['days_before_forecast_day'] = range(1, len(batch_data)+1)\n",
    "batch_data = batch_data.sort_values(by=['date'])\n",
    "batch_data"
   ]
  },
  {
   "cell_type": "code",
   "execution_count": null,
   "id": "00e6787b",
   "metadata": {},
   "outputs": [],
   "source": [
    "batch_data.info()"
   ]
  },
  {
   "cell_type": "markdown",
   "id": "6ff10c12",
   "metadata": {},
   "source": [
    "### Create Forecast Graph\n",
    "Draw a graph of the predictions with dates as a PNG and save it to the github repo\n",
    "Show it on github pages"
   ]
  },
  {
   "cell_type": "code",
   "execution_count": null,
   "id": "9bb0f844",
   "metadata": {},
   "outputs": [],
   "source": [
    "file_path = \"../../docs/air-quality/assets/img/pm25_forecast.png\"\n",
    "plt = util.plot_air_quality_forecast(city, street, batch_data, file_path)\n",
    "plt.show()"
   ]
  },
  {
   "cell_type": "code",
   "execution_count": null,
   "id": "c418a791",
   "metadata": {},
   "outputs": [],
   "source": [
    "# Get or create feature group\n",
    "monitor_fg = fs.get_or_create_feature_group(\n",
    "    name='aq_predictions',\n",
    "    description='Air Quality prediction monitoring',\n",
    "    version=1,\n",
    "    primary_key=['city','street','date','days_before_forecast_day'],\n",
    "    event_time=\"date\"\n",
    ")"
   ]
  },
  {
   "cell_type": "code",
   "execution_count": null,
   "id": "8992650a",
   "metadata": {},
   "outputs": [],
   "source": [
    "monitor_fg.insert(batch_data, write_options={\"wait_for_job\": True})"
   ]
  },
  {
   "cell_type": "code",
   "execution_count": null,
   "id": "aa2c1b07",
   "metadata": {},
   "outputs": [],
   "source": [
    "# We will create a hindcast chart for  only the forecasts made 1 day beforehand\n",
    "monitoring_df = monitor_fg.filter(monitor_fg.days_before_forecast_day == 1).read()\n",
    "monitoring_df"
   ]
  },
  {
   "cell_type": "code",
   "execution_count": null,
   "id": "8c3ff020",
   "metadata": {},
   "outputs": [],
   "source": [
    "air_quality_fg = fs.get_feature_group(\n",
    "    name='air_quality',\n",
    "    version=1,\n",
    ")\n",
    "air_quality_df = air_quality_fg.read()\n",
    "air_quality_df"
   ]
  },
  {
   "cell_type": "code",
   "execution_count": null,
   "id": "6763f180",
   "metadata": {},
   "outputs": [],
   "source": [
    "outcome_df = air_quality_df[['date', 'pm25']]\n",
    "preds_df =  monitoring_df[['date', 'predicted_pm25']]\n",
    "\n",
    "hindcast_df = pd.merge(preds_df, outcome_df, on=\"date\")\n",
    "hindcast_df = hindcast_df.sort_values(by=['date'])\n",
    "\n",
    "# If there are no outcomes for predictions yet, generate some predictions/outcomes from existing data\n",
    "if len(hindcast_df) == 0:\n",
    "    hindcast_df = util.backfill_predictions_for_monitoring(weather_fg, air_quality_df, monitor_fg, retrieved_xgboost_model)\n",
    "hindcast_df"
   ]
  },
  {
   "cell_type": "markdown",
   "id": "9edb1552",
   "metadata": {},
   "source": [
    "### Plot the Hindcast comparing predicted with forecasted values (1-day prior forecast)\n",
    "\n",
    "__This graph will be empty to begin with - this is normal.__\n",
    "\n",
    "After a few days of predictions and observations, you will get data points in this graph."
   ]
  },
  {
   "cell_type": "code",
   "execution_count": null,
   "id": "31e62393",
   "metadata": {},
   "outputs": [],
   "source": [
    "file_path = \"../../docs/air-quality/assets/img/pm25_hindcast_1day.png\"\n",
    "plt = util.plot_air_quality_forecast(city, street, hindcast_df, file_path, hindcast=True)\n",
    "plt.show()"
   ]
  },
  {
   "cell_type": "markdown",
   "id": "c29eb549",
   "metadata": {},
   "source": [
    "---"
   ]
  },
  {
   "cell_type": "code",
   "execution_count": null,
   "id": "799c6256-5f3e-4dd7-b59b-2ea3396a06f7",
   "metadata": {},
   "outputs": [],
   "source": []
  },
  {
   "cell_type": "code",
   "execution_count": null,
   "id": "dcbf966f-1010-4875-99a0-d00d208a8bb5",
   "metadata": {},
   "outputs": [],
   "source": []
  },
  {
   "cell_type": "code",
   "execution_count": null,
   "id": "2ada68f5-4731-4f9d-9756-bf38259b514d",
   "metadata": {},
   "outputs": [],
   "source": []
  }
 ],
 "metadata": {
  "kernelspec": {
   "display_name": "Python 3 (ipykernel)",
   "language": "python",
   "name": "python3"
  },
  "language_info": {
   "codemirror_mode": {
    "name": "ipython",
    "version": 3
   },
   "file_extension": ".py",
   "mimetype": "text/x-python",
   "name": "python",
   "nbconvert_exporter": "python",
   "pygments_lexer": "ipython3",
   "version": "3.10.15"
  }
 },
 "nbformat": 4,
 "nbformat_minor": 5
}
